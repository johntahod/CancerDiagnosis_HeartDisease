{
 "cells": [
  {
   "cell_type": "markdown",
   "metadata": {},
   "source": [
    "### A : - In this question, we work with a simplified version of Heart dataset. Read the dataset file “Heart_short.csv” from github, and assign it to a Pandas DataFrame:\n"
   ]
  },
  {
   "cell_type": "code",
   "execution_count": 2,
   "metadata": {},
   "outputs": [],
   "source": [
    "import pandas as pd\n",
    "\n",
    "\n",
    "heart_df = pd.read_csv(\"https://github.com/mpourhoma/CS4661/raw/master/Heart_short.csv\")\n",
    "\n"
   ]
  },
  {
   "cell_type": "markdown",
   "metadata": {},
   "source": [
    "### B :  Generate the feature matrix and label vector (AHD). Then, normalize (scale) the features."
   ]
  },
  {
   "cell_type": "code",
   "execution_count": 8,
   "metadata": {},
   "outputs": [
    {
     "name": "stdout",
     "output_type": "stream",
     "text": [
      "   Age  RestBP  Chol  RestECG  MaxHR  Oldpeak\n",
      "0   63     145   233        2    150      2.3\n",
      "1   67     160   286        2    108      1.5\n",
      "2   67     120   229        2    129      2.6\n",
      "3   37     130   250        0    187      3.5\n",
      "4   41     130   204        2    172      1.4\n"
     ]
    }
   ],
   "source": [
    "feature_heart_cols = ['Age','RestBP','Chol','RestECG','MaxHR','Oldpeak']\n",
    "\n",
    "X_feat = heart_df[feature_heart_cols]  \n",
    "print(X_feat.head())\n",
    "\n",
    "\n",
    "\n",
    "y =heart_df['AHD']\n",
    "\n",
    "\n",
    "\n",
    "from sklearn import preprocessing\n",
    "\n",
    "# Normalize X\n",
    "X = preprocessing.scale(X_feat)\n",
    "\n"
   ]
  },
  {
   "cell_type": "markdown",
   "metadata": {},
   "source": [
    "### C : Split the dataset into testing and training sets with the following parameters: test_size=0.25, random_state=3.\n"
   ]
  },
  {
   "cell_type": "code",
   "execution_count": 9,
   "metadata": {},
   "outputs": [],
   "source": [
    "from sklearn.model_selection import train_test_split\n",
    "\n",
    "\n",
    "X_train, X_test, y_train, y_test = train_test_split(X, y, test_size=0.25, random_state=3)\n",
    "\n"
   ]
  },
  {
   "cell_type": "markdown",
   "metadata": {},
   "source": [
    "### D : Use Logistic Regression Classifier to predict Heart Disease occurrence based on the training/testing datasets that you built in part(c). Then, compute and report the Accuracy."
   ]
  },
  {
   "cell_type": "code",
   "execution_count": 13,
   "metadata": {},
   "outputs": [
    {
     "name": "stdout",
     "output_type": "stream",
     "text": [
      "Accuracy (Logistic Regression): 0.7183098591549296\n",
      "FPR: [0.         0.         0.02439024 0.02439024 0.04878049 0.04878049\n",
      " 0.09756098 0.09756098 0.12195122 0.12195122 0.14634146 0.14634146\n",
      " 0.2195122  0.2195122  0.29268293 0.29268293 0.3902439  0.3902439\n",
      " 0.41463415 0.41463415 0.46341463 0.46341463 0.56097561 0.56097561\n",
      " 0.68292683 0.68292683 0.70731707 0.70731707 0.73170732 0.73170732\n",
      " 1.        ]\n",
      "TPR: [0.         0.03333333 0.03333333 0.33333333 0.33333333 0.36666667\n",
      " 0.36666667 0.4        0.4        0.53333333 0.53333333 0.6\n",
      " 0.6        0.63333333 0.63333333 0.7        0.7        0.73333333\n",
      " 0.73333333 0.76666667 0.76666667 0.83333333 0.83333333 0.86666667\n",
      " 0.86666667 0.93333333 0.93333333 0.96666667 0.96666667 1.\n",
      " 1.        ]\n",
      "AUC: 0.7650406504065042\n"
     ]
    },
    {
     "name": "stderr",
     "output_type": "stream",
     "text": [
      "//anaconda3/lib/python3.7/site-packages/sklearn/linear_model/logistic.py:432: FutureWarning: Default solver will be changed to 'lbfgs' in 0.22. Specify a solver to silence this warning.\n",
      "  FutureWarning)\n"
     ]
    },
    {
     "data": {
      "image/png": "[encoded data removed]",
      "text/plain": [
       "<Figure size 432x288 with 1 Axes>"
      ]
     },
     "metadata": {
      "needs_background": "light"
     },
     "output_type": "display_data"
    }
   ],
   "source": [
    "# Import LogisticRegression and accuracy_score\n",
    "from sklearn.linear_model import LogisticRegression\n",
    "from sklearn.metrics import accuracy_score\n",
    "\n",
    "# Instantiate my_logreg object form LogisticRegression class\n",
    "my_logreg = LogisticRegression()\n",
    "\n",
    "# Training ONLY on the training set:\n",
    "my_logreg.fit(X_train, y_train)\n",
    "\n",
    "# Testing on the testing set:\n",
    "y_predict_logred = my_logreg.predict(X_test)\n",
    "\n",
    "accuracy_logred = accuracy_score(y_test,y_predict_logred)\n",
    "print('Accuracy of Logestic Regression :', accuracy_logred)\n",
    "\n",
    "import matplotlib.pyplot as plt\n",
    "from sklearn import metrics\n",
    "\n",
    "Prediction = my_logreg.predict_proba(X_test)\n",
    "fpr, tpr, thresholds = metrics.roc_curve(y_test, Prediction[:,1], pos_label=\"Yes\")\n",
    "AUC = metrics.auc(fpr, tpr)\n",
    "print('FPR:', fpr)\n",
    "print('TPR:', tpr)\n",
    "print('AUC:', AUC)\n",
    "\n",
    "%matplotlib inline\n",
    "plt.figure()\n",
    "plt.plot(fpr, tpr, color='green', lw=2, \n",
    "         label='ROC Curve (area = %0.2f)' % AUC)\n",
    "plt.plot([0, 1], [0, 1], color='blue', lw=1, linestyle='--')\n",
    "\n",
    "# Defining The Range of X-Axis and Y-Axis:\n",
    "plt.xlim([-0.005, 1.005])\n",
    "plt.ylim([0.0, 1.01])\n",
    "\n",
    "# Labels, Title, and Legend:\n",
    "plt.xlabel('False Positive Rate')\n",
    "plt.ylabel('True Positive Rate')\n",
    "plt.title('Receiver operating characteristic')\n",
    "plt.legend(loc=\"lower right\")\n",
    "\n",
    "plt.show()"
   ]
  },
  {
   "cell_type": "code",
   "execution_count": null,
   "metadata": {},
   "outputs": [],
   "source": []
  }
 ],
 "metadata": {
  "kernelspec": {
   "display_name": "Python 3",
   "language": "python",
   "name": "python3"
  },
  "language_info": {
   "codemirror_mode": {
    "name": "ipython",
    "version": 3
   },
   "file_extension": ".py",
   "mimetype": "text/x-python",
   "name": "python",
   "nbconvert_exporter": "python",
   "pygments_lexer": "ipython3",
   "version": "3.7.3"
  }
 },
 "nbformat": 4,
 "nbformat_minor": 2
}
